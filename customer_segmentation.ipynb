{
 "metadata": {
  "language_info": {
   "codemirror_mode": {
    "name": "ipython",
    "version": 3
   },
   "file_extension": ".py",
   "mimetype": "text/x-python",
   "name": "python",
   "nbconvert_exporter": "python",
   "pygments_lexer": "ipython3",
   "version": "3.8.5"
  },
  "orig_nbformat": 2,
  "kernelspec": {
   "name": "python3",
   "display_name": "Python"
  },
  "metadata": {
   "interpreter": {
    "hash": "916dbcbb3f70747c44a77c7bcd40155683ae19c65e1c03b4aa3499c5328201f1"
   }
  }
 },
 "nbformat": 4,
 "nbformat_minor": 2,
 "cells": [
  {
   "cell_type": "code",
   "execution_count": 2,
   "metadata": {},
   "outputs": [],
   "source": [
    "import pandas as pd\n",
    "import numpy as np\n"
   ]
  },
  {
   "cell_type": "code",
   "execution_count": 39,
   "metadata": {},
   "outputs": [
    {
     "output_type": "execute_result",
     "data": {
      "text/plain": [
       "   InvoiceNo StockCode                          Description  Quantity  \\\n",
       "0     536365    85123A   WHITE HANGING HEART T-LIGHT HOLDER         6   \n",
       "1     536365     71053                  WHITE METAL LANTERN         6   \n",
       "2     536365    84406B       CREAM CUPID HEARTS COAT HANGER         8   \n",
       "3     536365    84029G  KNITTED UNION FLAG HOT WATER BOTTLE         6   \n",
       "4     536365    84029E       RED WOOLLY HOTTIE WHITE HEART.         6   \n",
       "5     536365     22752         SET 7 BABUSHKA NESTING BOXES         2   \n",
       "6     536365     21730    GLASS STAR FROSTED T-LIGHT HOLDER         6   \n",
       "7     536366     22633               HAND WARMER UNION JACK         6   \n",
       "8     536366     22632            HAND WARMER RED POLKA DOT         6   \n",
       "9     536367     84879        ASSORTED COLOUR BIRD ORNAMENT        32   \n",
       "10    536367     22745           POPPY'S PLAYHOUSE BEDROOM          6   \n",
       "11    536367     22748            POPPY'S PLAYHOUSE KITCHEN         6   \n",
       "12    536367     22749    FELTCRAFT PRINCESS CHARLOTTE DOLL         8   \n",
       "13    536367     22310              IVORY KNITTED MUG COSY          6   \n",
       "14    536367     84969   BOX OF 6 ASSORTED COLOUR TEASPOONS         6   \n",
       "15    536367     22623        BOX OF VINTAGE JIGSAW BLOCKS          3   \n",
       "16    536367     22622       BOX OF VINTAGE ALPHABET BLOCKS         2   \n",
       "17    536367     21754             HOME BUILDING BLOCK WORD         3   \n",
       "18    536367     21755             LOVE BUILDING BLOCK WORD         3   \n",
       "19    536367     21777          RECIPE BOX WITH METAL HEART         4   \n",
       "\n",
       "       InvoiceDate  UnitPrice  CustomerID         Country  \n",
       "0   12/1/2010 8:26       2.55     17850.0  United Kingdom  \n",
       "1   12/1/2010 8:26       3.39     17850.0  United Kingdom  \n",
       "2   12/1/2010 8:26       2.75     17850.0  United Kingdom  \n",
       "3   12/1/2010 8:26       3.39     17850.0  United Kingdom  \n",
       "4   12/1/2010 8:26       3.39     17850.0  United Kingdom  \n",
       "5   12/1/2010 8:26       7.65     17850.0  United Kingdom  \n",
       "6   12/1/2010 8:26       4.25     17850.0  United Kingdom  \n",
       "7   12/1/2010 8:28       1.85     17850.0  United Kingdom  \n",
       "8   12/1/2010 8:28       1.85     17850.0  United Kingdom  \n",
       "9   12/1/2010 8:34       1.69     13047.0  United Kingdom  \n",
       "10  12/1/2010 8:34       2.10     13047.0  United Kingdom  \n",
       "11  12/1/2010 8:34       2.10     13047.0  United Kingdom  \n",
       "12  12/1/2010 8:34       3.75     13047.0  United Kingdom  \n",
       "13  12/1/2010 8:34       1.65     13047.0  United Kingdom  \n",
       "14  12/1/2010 8:34       4.25     13047.0  United Kingdom  \n",
       "15  12/1/2010 8:34       4.95     13047.0  United Kingdom  \n",
       "16  12/1/2010 8:34       9.95     13047.0  United Kingdom  \n",
       "17  12/1/2010 8:34       5.95     13047.0  United Kingdom  \n",
       "18  12/1/2010 8:34       5.95     13047.0  United Kingdom  \n",
       "19  12/1/2010 8:34       7.95     13047.0  United Kingdom  "
      ],
      "text/html": "<div>\n<style scoped>\n    .dataframe tbody tr th:only-of-type {\n        vertical-align: middle;\n    }\n\n    .dataframe tbody tr th {\n        vertical-align: top;\n    }\n\n    .dataframe thead th {\n        text-align: right;\n    }\n</style>\n<table border=\"1\" class=\"dataframe\">\n  <thead>\n    <tr style=\"text-align: right;\">\n      <th></th>\n      <th>InvoiceNo</th>\n      <th>StockCode</th>\n      <th>Description</th>\n      <th>Quantity</th>\n      <th>InvoiceDate</th>\n      <th>UnitPrice</th>\n      <th>CustomerID</th>\n      <th>Country</th>\n    </tr>\n  </thead>\n  <tbody>\n    <tr>\n      <th>0</th>\n      <td>536365</td>\n      <td>85123A</td>\n      <td>WHITE HANGING HEART T-LIGHT HOLDER</td>\n      <td>6</td>\n      <td>12/1/2010 8:26</td>\n      <td>2.55</td>\n      <td>17850.0</td>\n      <td>United Kingdom</td>\n    </tr>\n    <tr>\n      <th>1</th>\n      <td>536365</td>\n      <td>71053</td>\n      <td>WHITE METAL LANTERN</td>\n      <td>6</td>\n      <td>12/1/2010 8:26</td>\n      <td>3.39</td>\n      <td>17850.0</td>\n      <td>United Kingdom</td>\n    </tr>\n    <tr>\n      <th>2</th>\n      <td>536365</td>\n      <td>84406B</td>\n      <td>CREAM CUPID HEARTS COAT HANGER</td>\n      <td>8</td>\n      <td>12/1/2010 8:26</td>\n      <td>2.75</td>\n      <td>17850.0</td>\n      <td>United Kingdom</td>\n    </tr>\n    <tr>\n      <th>3</th>\n      <td>536365</td>\n      <td>84029G</td>\n      <td>KNITTED UNION FLAG HOT WATER BOTTLE</td>\n      <td>6</td>\n      <td>12/1/2010 8:26</td>\n      <td>3.39</td>\n      <td>17850.0</td>\n      <td>United Kingdom</td>\n    </tr>\n    <tr>\n      <th>4</th>\n      <td>536365</td>\n      <td>84029E</td>\n      <td>RED WOOLLY HOTTIE WHITE HEART.</td>\n      <td>6</td>\n      <td>12/1/2010 8:26</td>\n      <td>3.39</td>\n      <td>17850.0</td>\n      <td>United Kingdom</td>\n    </tr>\n    <tr>\n      <th>5</th>\n      <td>536365</td>\n      <td>22752</td>\n      <td>SET 7 BABUSHKA NESTING BOXES</td>\n      <td>2</td>\n      <td>12/1/2010 8:26</td>\n      <td>7.65</td>\n      <td>17850.0</td>\n      <td>United Kingdom</td>\n    </tr>\n    <tr>\n      <th>6</th>\n      <td>536365</td>\n      <td>21730</td>\n      <td>GLASS STAR FROSTED T-LIGHT HOLDER</td>\n      <td>6</td>\n      <td>12/1/2010 8:26</td>\n      <td>4.25</td>\n      <td>17850.0</td>\n      <td>United Kingdom</td>\n    </tr>\n    <tr>\n      <th>7</th>\n      <td>536366</td>\n      <td>22633</td>\n      <td>HAND WARMER UNION JACK</td>\n      <td>6</td>\n      <td>12/1/2010 8:28</td>\n      <td>1.85</td>\n      <td>17850.0</td>\n      <td>United Kingdom</td>\n    </tr>\n    <tr>\n      <th>8</th>\n      <td>536366</td>\n      <td>22632</td>\n      <td>HAND WARMER RED POLKA DOT</td>\n      <td>6</td>\n      <td>12/1/2010 8:28</td>\n      <td>1.85</td>\n      <td>17850.0</td>\n      <td>United Kingdom</td>\n    </tr>\n    <tr>\n      <th>9</th>\n      <td>536367</td>\n      <td>84879</td>\n      <td>ASSORTED COLOUR BIRD ORNAMENT</td>\n      <td>32</td>\n      <td>12/1/2010 8:34</td>\n      <td>1.69</td>\n      <td>13047.0</td>\n      <td>United Kingdom</td>\n    </tr>\n    <tr>\n      <th>10</th>\n      <td>536367</td>\n      <td>22745</td>\n      <td>POPPY'S PLAYHOUSE BEDROOM</td>\n      <td>6</td>\n      <td>12/1/2010 8:34</td>\n      <td>2.10</td>\n      <td>13047.0</td>\n      <td>United Kingdom</td>\n    </tr>\n    <tr>\n      <th>11</th>\n      <td>536367</td>\n      <td>22748</td>\n      <td>POPPY'S PLAYHOUSE KITCHEN</td>\n      <td>6</td>\n      <td>12/1/2010 8:34</td>\n      <td>2.10</td>\n      <td>13047.0</td>\n      <td>United Kingdom</td>\n    </tr>\n    <tr>\n      <th>12</th>\n      <td>536367</td>\n      <td>22749</td>\n      <td>FELTCRAFT PRINCESS CHARLOTTE DOLL</td>\n      <td>8</td>\n      <td>12/1/2010 8:34</td>\n      <td>3.75</td>\n      <td>13047.0</td>\n      <td>United Kingdom</td>\n    </tr>\n    <tr>\n      <th>13</th>\n      <td>536367</td>\n      <td>22310</td>\n      <td>IVORY KNITTED MUG COSY</td>\n      <td>6</td>\n      <td>12/1/2010 8:34</td>\n      <td>1.65</td>\n      <td>13047.0</td>\n      <td>United Kingdom</td>\n    </tr>\n    <tr>\n      <th>14</th>\n      <td>536367</td>\n      <td>84969</td>\n      <td>BOX OF 6 ASSORTED COLOUR TEASPOONS</td>\n      <td>6</td>\n      <td>12/1/2010 8:34</td>\n      <td>4.25</td>\n      <td>13047.0</td>\n      <td>United Kingdom</td>\n    </tr>\n    <tr>\n      <th>15</th>\n      <td>536367</td>\n      <td>22623</td>\n      <td>BOX OF VINTAGE JIGSAW BLOCKS</td>\n      <td>3</td>\n      <td>12/1/2010 8:34</td>\n      <td>4.95</td>\n      <td>13047.0</td>\n      <td>United Kingdom</td>\n    </tr>\n    <tr>\n      <th>16</th>\n      <td>536367</td>\n      <td>22622</td>\n      <td>BOX OF VINTAGE ALPHABET BLOCKS</td>\n      <td>2</td>\n      <td>12/1/2010 8:34</td>\n      <td>9.95</td>\n      <td>13047.0</td>\n      <td>United Kingdom</td>\n    </tr>\n    <tr>\n      <th>17</th>\n      <td>536367</td>\n      <td>21754</td>\n      <td>HOME BUILDING BLOCK WORD</td>\n      <td>3</td>\n      <td>12/1/2010 8:34</td>\n      <td>5.95</td>\n      <td>13047.0</td>\n      <td>United Kingdom</td>\n    </tr>\n    <tr>\n      <th>18</th>\n      <td>536367</td>\n      <td>21755</td>\n      <td>LOVE BUILDING BLOCK WORD</td>\n      <td>3</td>\n      <td>12/1/2010 8:34</td>\n      <td>5.95</td>\n      <td>13047.0</td>\n      <td>United Kingdom</td>\n    </tr>\n    <tr>\n      <th>19</th>\n      <td>536367</td>\n      <td>21777</td>\n      <td>RECIPE BOX WITH METAL HEART</td>\n      <td>4</td>\n      <td>12/1/2010 8:34</td>\n      <td>7.95</td>\n      <td>13047.0</td>\n      <td>United Kingdom</td>\n    </tr>\n  </tbody>\n</table>\n</div>"
     },
     "metadata": {},
     "execution_count": 39
    }
   ],
   "source": [
    "df = pd.read_csv(\"data.csv\")\n",
    "df.head(20)"
   ]
  },
  {
   "cell_type": "code",
   "execution_count": 4,
   "metadata": {},
   "outputs": [
    {
     "output_type": "execute_result",
     "data": {
      "text/plain": [
       "InvoiceNo      False\n",
       "StockCode      False\n",
       "Description     True\n",
       "Quantity       False\n",
       "InvoiceDate    False\n",
       "UnitPrice      False\n",
       "CustomerID      True\n",
       "Country        False\n",
       "dtype: bool"
      ]
     },
     "metadata": {},
     "execution_count": 4
    }
   ],
   "source": [
    "df.isna().any()"
   ]
  },
  {
   "cell_type": "code",
   "execution_count": 5,
   "metadata": {},
   "outputs": [
    {
     "output_type": "execute_result",
     "data": {
      "text/plain": [
       "(541909, 8)"
      ]
     },
     "metadata": {},
     "execution_count": 5
    }
   ],
   "source": [
    "df.shape\n"
   ]
  },
  {
   "cell_type": "code",
   "execution_count": 6,
   "metadata": {},
   "outputs": [
    {
     "output_type": "execute_result",
     "data": {
      "text/plain": [
       "(406829, 8)"
      ]
     },
     "metadata": {},
     "execution_count": 6
    }
   ],
   "source": [
    "df.dropna(axis=0, subset=[\"CustomerID\"], inplace=True)\n",
    "df.shape"
   ]
  },
  {
   "cell_type": "code",
   "execution_count": 7,
   "metadata": {},
   "outputs": [
    {
     "output_type": "stream",
     "name": "stdout",
     "text": [
      "InvoiceNo      False\nStockCode      False\nDescription    False\nQuantity       False\nInvoiceDate    False\nUnitPrice      False\nCustomerID     False\nCountry        False\ndtype: bool\n"
     ]
    },
    {
     "output_type": "execute_result",
     "data": {
      "text/plain": [
       "InvoiceNo       object\n",
       "StockCode       object\n",
       "Description     object\n",
       "Quantity         int64\n",
       "InvoiceDate     object\n",
       "UnitPrice      float64\n",
       "CustomerID     float64\n",
       "Country         object\n",
       "dtype: object"
      ]
     },
     "metadata": {},
     "execution_count": 7
    }
   ],
   "source": [
    "print(df.isna().any())\n",
    "df.dtypes\n"
   ]
  },
  {
   "cell_type": "code",
   "execution_count": 8,
   "metadata": {},
   "outputs": [
    {
     "output_type": "execute_result",
     "data": {
      "text/plain": [
       "(401604, 8)"
      ]
     },
     "metadata": {},
     "execution_count": 8
    }
   ],
   "source": [
    "df.duplicated().sum()\n",
    "df.drop_duplicates(inplace = True)\n",
    "df.shape"
   ]
  },
  {
   "cell_type": "code",
   "execution_count": 9,
   "metadata": {},
   "outputs": [
    {
     "output_type": "execute_result",
     "data": {
      "text/plain": [
       "Index(['InvoiceNo', 'StockCode', 'Description', 'Quantity', 'InvoiceDate',\n",
       "       'UnitPrice', 'CustomerID', 'Country'],\n",
       "      dtype='object')"
      ]
     },
     "metadata": {},
     "execution_count": 9
    }
   ],
   "source": [
    "countries = df[[\"Country\"]].value_counts()\n",
    "# temp = df.drop(\"Index\",axis=1, inplace=False)\n",
    "df.columns\n"
   ]
  },
  {
   "cell_type": "code",
   "execution_count": 10,
   "metadata": {},
   "outputs": [
    {
     "output_type": "execute_result",
     "data": {
      "text/plain": [
       "          products  transaction  customer\n",
       "quantity      3684        22190      4372"
      ],
      "text/html": "<div>\n<style scoped>\n    .dataframe tbody tr th:only-of-type {\n        vertical-align: middle;\n    }\n\n    .dataframe tbody tr th {\n        vertical-align: top;\n    }\n\n    .dataframe thead th {\n        text-align: right;\n    }\n</style>\n<table border=\"1\" class=\"dataframe\">\n  <thead>\n    <tr style=\"text-align: right;\">\n      <th></th>\n      <th>products</th>\n      <th>transaction</th>\n      <th>customer</th>\n    </tr>\n  </thead>\n  <tbody>\n    <tr>\n      <th>quantity</th>\n      <td>3684</td>\n      <td>22190</td>\n      <td>4372</td>\n    </tr>\n  </tbody>\n</table>\n</div>"
     },
     "metadata": {},
     "execution_count": 10
    }
   ],
   "source": [
    "pd.DataFrame([{\"products\":len(df[\"StockCode\"].value_counts()),\n",
    "                \"transaction\":len(df[\"InvoiceNo\"].value_counts()),\n",
    "                \"customer\":len(df[\"CustomerID\"].value_counts())}],\n",
    "                columns = [\"products\", \"transaction\", \"customer\"], index=[\"quantity\"])"
   ]
  },
  {
   "cell_type": "code",
   "execution_count": 17,
   "metadata": {},
   "outputs": [
    {
     "output_type": "execute_result",
     "data": {
      "text/plain": [
       "    CustomerID InvoiceNo  Number of Products\n",
       "0      12346.0    541431                   1\n",
       "1      12346.0   C541433                   1\n",
       "2      12347.0    537626                  31\n",
       "3      12347.0    542237                  29\n",
       "4      12347.0    549222                  24\n",
       "5      12347.0    556201                  18\n",
       "6      12347.0    562032                  22\n",
       "7      12347.0    573511                  47\n",
       "8      12347.0    581180                  11\n",
       "9      12348.0    539318                  17\n",
       "10     12348.0    541998                   6\n",
       "11     12348.0    548955                   5\n",
       "12     12348.0    568172                   3\n",
       "13     12349.0    577609                  73\n",
       "14     12350.0    543037                  17\n",
       "15     12352.0    544156                  15\n",
       "16     12352.0    545323                   5\n",
       "17     12352.0    545332                   3\n",
       "18     12352.0    546869                   7\n",
       "19     12352.0    547390                   8\n",
       "20     12352.0    567505                  18\n",
       "21     12352.0    568699                  14\n",
       "22     12352.0    574275                  15\n",
       "23     12352.0   C545329                   2\n",
       "24     12352.0   C545330                   1\n",
       "25     12352.0   C547388                   7\n",
       "26     12353.0    553900                   4\n",
       "27     12354.0    550911                  58\n",
       "28     12355.0    552449                  13\n",
       "29     12356.0    541430                  36"
      ],
      "text/html": "<div>\n<style scoped>\n    .dataframe tbody tr th:only-of-type {\n        vertical-align: middle;\n    }\n\n    .dataframe tbody tr th {\n        vertical-align: top;\n    }\n\n    .dataframe thead th {\n        text-align: right;\n    }\n</style>\n<table border=\"1\" class=\"dataframe\">\n  <thead>\n    <tr style=\"text-align: right;\">\n      <th></th>\n      <th>CustomerID</th>\n      <th>InvoiceNo</th>\n      <th>Number of Products</th>\n    </tr>\n  </thead>\n  <tbody>\n    <tr>\n      <th>0</th>\n      <td>12346.0</td>\n      <td>541431</td>\n      <td>1</td>\n    </tr>\n    <tr>\n      <th>1</th>\n      <td>12346.0</td>\n      <td>C541433</td>\n      <td>1</td>\n    </tr>\n    <tr>\n      <th>2</th>\n      <td>12347.0</td>\n      <td>537626</td>\n      <td>31</td>\n    </tr>\n    <tr>\n      <th>3</th>\n      <td>12347.0</td>\n      <td>542237</td>\n      <td>29</td>\n    </tr>\n    <tr>\n      <th>4</th>\n      <td>12347.0</td>\n      <td>549222</td>\n      <td>24</td>\n    </tr>\n    <tr>\n      <th>5</th>\n      <td>12347.0</td>\n      <td>556201</td>\n      <td>18</td>\n    </tr>\n    <tr>\n      <th>6</th>\n      <td>12347.0</td>\n      <td>562032</td>\n      <td>22</td>\n    </tr>\n    <tr>\n      <th>7</th>\n      <td>12347.0</td>\n      <td>573511</td>\n      <td>47</td>\n    </tr>\n    <tr>\n      <th>8</th>\n      <td>12347.0</td>\n      <td>581180</td>\n      <td>11</td>\n    </tr>\n    <tr>\n      <th>9</th>\n      <td>12348.0</td>\n      <td>539318</td>\n      <td>17</td>\n    </tr>\n    <tr>\n      <th>10</th>\n      <td>12348.0</td>\n      <td>541998</td>\n      <td>6</td>\n    </tr>\n    <tr>\n      <th>11</th>\n      <td>12348.0</td>\n      <td>548955</td>\n      <td>5</td>\n    </tr>\n    <tr>\n      <th>12</th>\n      <td>12348.0</td>\n      <td>568172</td>\n      <td>3</td>\n    </tr>\n    <tr>\n      <th>13</th>\n      <td>12349.0</td>\n      <td>577609</td>\n      <td>73</td>\n    </tr>\n    <tr>\n      <th>14</th>\n      <td>12350.0</td>\n      <td>543037</td>\n      <td>17</td>\n    </tr>\n    <tr>\n      <th>15</th>\n      <td>12352.0</td>\n      <td>544156</td>\n      <td>15</td>\n    </tr>\n    <tr>\n      <th>16</th>\n      <td>12352.0</td>\n      <td>545323</td>\n      <td>5</td>\n    </tr>\n    <tr>\n      <th>17</th>\n      <td>12352.0</td>\n      <td>545332</td>\n      <td>3</td>\n    </tr>\n    <tr>\n      <th>18</th>\n      <td>12352.0</td>\n      <td>546869</td>\n      <td>7</td>\n    </tr>\n    <tr>\n      <th>19</th>\n      <td>12352.0</td>\n      <td>547390</td>\n      <td>8</td>\n    </tr>\n    <tr>\n      <th>20</th>\n      <td>12352.0</td>\n      <td>567505</td>\n      <td>18</td>\n    </tr>\n    <tr>\n      <th>21</th>\n      <td>12352.0</td>\n      <td>568699</td>\n      <td>14</td>\n    </tr>\n    <tr>\n      <th>22</th>\n      <td>12352.0</td>\n      <td>574275</td>\n      <td>15</td>\n    </tr>\n    <tr>\n      <th>23</th>\n      <td>12352.0</td>\n      <td>C545329</td>\n      <td>2</td>\n    </tr>\n    <tr>\n      <th>24</th>\n      <td>12352.0</td>\n      <td>C545330</td>\n      <td>1</td>\n    </tr>\n    <tr>\n      <th>25</th>\n      <td>12352.0</td>\n      <td>C547388</td>\n      <td>7</td>\n    </tr>\n    <tr>\n      <th>26</th>\n      <td>12353.0</td>\n      <td>553900</td>\n      <td>4</td>\n    </tr>\n    <tr>\n      <th>27</th>\n      <td>12354.0</td>\n      <td>550911</td>\n      <td>58</td>\n    </tr>\n    <tr>\n      <th>28</th>\n      <td>12355.0</td>\n      <td>552449</td>\n      <td>13</td>\n    </tr>\n    <tr>\n      <th>29</th>\n      <td>12356.0</td>\n      <td>541430</td>\n      <td>36</td>\n    </tr>\n  </tbody>\n</table>\n</div>"
     },
     "metadata": {},
     "execution_count": 17
    }
   ],
   "source": [
    "temp = df.groupby(by= [\"CustomerID\", \"InvoiceNo\"],as_index=False)[\"InvoiceDate\"].count()\n",
    "nb_products_per_basket = temp.rename(columns={\"InvoiceDate\" : \"Number of Products\"})\n",
    "nb_products_per_basket[:30].sort_values(\"CustomerID\")"
   ]
  },
  {
   "cell_type": "code",
   "execution_count": 23,
   "metadata": {},
   "outputs": [
    {
     "output_type": "stream",
     "name": "stdout",
     "text": [
      "Number of orders canceled: 16.466876971608833\n"
     ]
    },
    {
     "output_type": "execute_result",
     "data": {
      "text/plain": [
       "   CustomerID InvoiceNo  Number of Products  order_canceled\n",
       "0     12346.0    541431                   1               0\n",
       "1     12346.0   C541433                   1               1\n",
       "2     12347.0    537626                  31               0\n",
       "3     12347.0    542237                  29               0\n",
       "4     12347.0    549222                  24               0"
      ],
      "text/html": "<div>\n<style scoped>\n    .dataframe tbody tr th:only-of-type {\n        vertical-align: middle;\n    }\n\n    .dataframe tbody tr th {\n        vertical-align: top;\n    }\n\n    .dataframe thead th {\n        text-align: right;\n    }\n</style>\n<table border=\"1\" class=\"dataframe\">\n  <thead>\n    <tr style=\"text-align: right;\">\n      <th></th>\n      <th>CustomerID</th>\n      <th>InvoiceNo</th>\n      <th>Number of Products</th>\n      <th>order_canceled</th>\n    </tr>\n  </thead>\n  <tbody>\n    <tr>\n      <th>0</th>\n      <td>12346.0</td>\n      <td>541431</td>\n      <td>1</td>\n      <td>0</td>\n    </tr>\n    <tr>\n      <th>1</th>\n      <td>12346.0</td>\n      <td>C541433</td>\n      <td>1</td>\n      <td>1</td>\n    </tr>\n    <tr>\n      <th>2</th>\n      <td>12347.0</td>\n      <td>537626</td>\n      <td>31</td>\n      <td>0</td>\n    </tr>\n    <tr>\n      <th>3</th>\n      <td>12347.0</td>\n      <td>542237</td>\n      <td>29</td>\n      <td>0</td>\n    </tr>\n    <tr>\n      <th>4</th>\n      <td>12347.0</td>\n      <td>549222</td>\n      <td>24</td>\n      <td>0</td>\n    </tr>\n  </tbody>\n</table>\n</div>"
     },
     "metadata": {},
     "execution_count": 23
    }
   ],
   "source": [
    "nb_products_per_basket[\"order_canceled\"] = nb_products_per_basket[\"InvoiceNo\"].apply(lambda x : int(\"C\" in x))\n",
    "n1 = nb_products_per_basket[\"order_canceled\"].sum()\n",
    "n2 = nb_products_per_basket.shape[0]\n",
    "print(f\"Number of orders canceled: {(n1/n2)*100}\")\n",
    "nb_products_per_basket[:5]\n"
   ]
  },
  {
   "cell_type": "code",
   "execution_count": 40,
   "metadata": {},
   "outputs": [
    {
     "output_type": "execute_result",
     "data": {
      "text/plain": [
       "       InvoiceNo StockCode                          Description  Quantity  \\\n",
       "61619     541431     23166       MEDIUM CERAMIC TOP STORAGE JAR     74215   \n",
       "61624    C541433     23166       MEDIUM CERAMIC TOP STORAGE JAR    -74215   \n",
       "286628    562032     21578     WOODLAND DESIGN  COTTON TOTE BAG         6   \n",
       "72263     542237    47559B                  TEA TIME OVEN GLOVE        10   \n",
       "72264     542237     21154            RED RETROSPOT OVEN GLOVE         10   \n",
       "72265     542237     21041      RED RETROSPOT OVEN GLOVE DOUBLE         6   \n",
       "72266     542237     21035      SET/2 RED RETROSPOT TEA TOWELS          6   \n",
       "72267     542237     22423             REGENCY CAKESTAND 3 TIER         3   \n",
       "72268     542237     84969   BOX OF 6 ASSORTED COLOUR TEASPOONS         6   \n",
       "72269     542237     22134           MINI LADLE LOVE HEART RED         12   \n",
       "72270     542237     21832                 CHOCOLATE CALCULATOR        12   \n",
       "286624    562032     22374      AIRLINE BAG VINTAGE JET SET RED         4   \n",
       "428957    573511     23480       MINI LIGHTS WOODLAND MUSHROOMS        12   \n",
       "428958    573511     21265         PINK GOOSE FEATHER TREE 60CM        12   \n",
       "428959    573511     21636               MADRAS NOTEBOOK MEDIUM        12   \n",
       "428960    573511     22372  AIRLINE BAG VINTAGE WORLD CHAMPION          4   \n",
       "428961    573511     22375    AIRLINE BAG VINTAGE JET SET BROWN         8   \n",
       "428962    573511     22371         AIRLINE BAG VINTAGE TOKYO 78        12   \n",
       "428963    573511     22374      AIRLINE BAG VINTAGE JET SET RED         8   \n",
       "428964    573511     22252  BIRDCAGE DECORATION TEALIGHT HOLDER        12   \n",
       "\n",
       "             InvoiceDate  UnitPrice  CustomerID         Country  \n",
       "61619    1/18/2011 10:01       1.04     12346.0  United Kingdom  \n",
       "61624    1/18/2011 10:17       1.04     12346.0  United Kingdom  \n",
       "286628     8/2/2011 8:48       2.25     12347.0         Iceland  \n",
       "72263    1/26/2011 14:30       1.25     12347.0         Iceland  \n",
       "72264    1/26/2011 14:30       1.25     12347.0         Iceland  \n",
       "72265    1/26/2011 14:30       2.95     12347.0         Iceland  \n",
       "72266    1/26/2011 14:30       2.95     12347.0         Iceland  \n",
       "72267    1/26/2011 14:30      12.75     12347.0         Iceland  \n",
       "72268    1/26/2011 14:30       4.25     12347.0         Iceland  \n",
       "72269    1/26/2011 14:30       0.42     12347.0         Iceland  \n",
       "72270    1/26/2011 14:30       1.65     12347.0         Iceland  \n",
       "286624     8/2/2011 8:48       4.25     12347.0         Iceland  \n",
       "428957  10/31/2011 12:25       3.75     12347.0         Iceland  \n",
       "428958  10/31/2011 12:25       1.95     12347.0         Iceland  \n",
       "428959  10/31/2011 12:25       0.75     12347.0         Iceland  \n",
       "428960  10/31/2011 12:25       4.25     12347.0         Iceland  \n",
       "428961  10/31/2011 12:25       4.25     12347.0         Iceland  \n",
       "428962  10/31/2011 12:25       3.95     12347.0         Iceland  \n",
       "428963  10/31/2011 12:25       4.25     12347.0         Iceland  \n",
       "428964  10/31/2011 12:25       1.25     12347.0         Iceland  "
      ],
      "text/html": "<div>\n<style scoped>\n    .dataframe tbody tr th:only-of-type {\n        vertical-align: middle;\n    }\n\n    .dataframe tbody tr th {\n        vertical-align: top;\n    }\n\n    .dataframe thead th {\n        text-align: right;\n    }\n</style>\n<table border=\"1\" class=\"dataframe\">\n  <thead>\n    <tr style=\"text-align: right;\">\n      <th></th>\n      <th>InvoiceNo</th>\n      <th>StockCode</th>\n      <th>Description</th>\n      <th>Quantity</th>\n      <th>InvoiceDate</th>\n      <th>UnitPrice</th>\n      <th>CustomerID</th>\n      <th>Country</th>\n    </tr>\n  </thead>\n  <tbody>\n    <tr>\n      <th>61619</th>\n      <td>541431</td>\n      <td>23166</td>\n      <td>MEDIUM CERAMIC TOP STORAGE JAR</td>\n      <td>74215</td>\n      <td>1/18/2011 10:01</td>\n      <td>1.04</td>\n      <td>12346.0</td>\n      <td>United Kingdom</td>\n    </tr>\n    <tr>\n      <th>61624</th>\n      <td>C541433</td>\n      <td>23166</td>\n      <td>MEDIUM CERAMIC TOP STORAGE JAR</td>\n      <td>-74215</td>\n      <td>1/18/2011 10:17</td>\n      <td>1.04</td>\n      <td>12346.0</td>\n      <td>United Kingdom</td>\n    </tr>\n    <tr>\n      <th>286628</th>\n      <td>562032</td>\n      <td>21578</td>\n      <td>WOODLAND DESIGN  COTTON TOTE BAG</td>\n      <td>6</td>\n      <td>8/2/2011 8:48</td>\n      <td>2.25</td>\n      <td>12347.0</td>\n      <td>Iceland</td>\n    </tr>\n    <tr>\n      <th>72263</th>\n      <td>542237</td>\n      <td>47559B</td>\n      <td>TEA TIME OVEN GLOVE</td>\n      <td>10</td>\n      <td>1/26/2011 14:30</td>\n      <td>1.25</td>\n      <td>12347.0</td>\n      <td>Iceland</td>\n    </tr>\n    <tr>\n      <th>72264</th>\n      <td>542237</td>\n      <td>21154</td>\n      <td>RED RETROSPOT OVEN GLOVE</td>\n      <td>10</td>\n      <td>1/26/2011 14:30</td>\n      <td>1.25</td>\n      <td>12347.0</td>\n      <td>Iceland</td>\n    </tr>\n    <tr>\n      <th>72265</th>\n      <td>542237</td>\n      <td>21041</td>\n      <td>RED RETROSPOT OVEN GLOVE DOUBLE</td>\n      <td>6</td>\n      <td>1/26/2011 14:30</td>\n      <td>2.95</td>\n      <td>12347.0</td>\n      <td>Iceland</td>\n    </tr>\n    <tr>\n      <th>72266</th>\n      <td>542237</td>\n      <td>21035</td>\n      <td>SET/2 RED RETROSPOT TEA TOWELS</td>\n      <td>6</td>\n      <td>1/26/2011 14:30</td>\n      <td>2.95</td>\n      <td>12347.0</td>\n      <td>Iceland</td>\n    </tr>\n    <tr>\n      <th>72267</th>\n      <td>542237</td>\n      <td>22423</td>\n      <td>REGENCY CAKESTAND 3 TIER</td>\n      <td>3</td>\n      <td>1/26/2011 14:30</td>\n      <td>12.75</td>\n      <td>12347.0</td>\n      <td>Iceland</td>\n    </tr>\n    <tr>\n      <th>72268</th>\n      <td>542237</td>\n      <td>84969</td>\n      <td>BOX OF 6 ASSORTED COLOUR TEASPOONS</td>\n      <td>6</td>\n      <td>1/26/2011 14:30</td>\n      <td>4.25</td>\n      <td>12347.0</td>\n      <td>Iceland</td>\n    </tr>\n    <tr>\n      <th>72269</th>\n      <td>542237</td>\n      <td>22134</td>\n      <td>MINI LADLE LOVE HEART RED</td>\n      <td>12</td>\n      <td>1/26/2011 14:30</td>\n      <td>0.42</td>\n      <td>12347.0</td>\n      <td>Iceland</td>\n    </tr>\n    <tr>\n      <th>72270</th>\n      <td>542237</td>\n      <td>21832</td>\n      <td>CHOCOLATE CALCULATOR</td>\n      <td>12</td>\n      <td>1/26/2011 14:30</td>\n      <td>1.65</td>\n      <td>12347.0</td>\n      <td>Iceland</td>\n    </tr>\n    <tr>\n      <th>286624</th>\n      <td>562032</td>\n      <td>22374</td>\n      <td>AIRLINE BAG VINTAGE JET SET RED</td>\n      <td>4</td>\n      <td>8/2/2011 8:48</td>\n      <td>4.25</td>\n      <td>12347.0</td>\n      <td>Iceland</td>\n    </tr>\n    <tr>\n      <th>428957</th>\n      <td>573511</td>\n      <td>23480</td>\n      <td>MINI LIGHTS WOODLAND MUSHROOMS</td>\n      <td>12</td>\n      <td>10/31/2011 12:25</td>\n      <td>3.75</td>\n      <td>12347.0</td>\n      <td>Iceland</td>\n    </tr>\n    <tr>\n      <th>428958</th>\n      <td>573511</td>\n      <td>21265</td>\n      <td>PINK GOOSE FEATHER TREE 60CM</td>\n      <td>12</td>\n      <td>10/31/2011 12:25</td>\n      <td>1.95</td>\n      <td>12347.0</td>\n      <td>Iceland</td>\n    </tr>\n    <tr>\n      <th>428959</th>\n      <td>573511</td>\n      <td>21636</td>\n      <td>MADRAS NOTEBOOK MEDIUM</td>\n      <td>12</td>\n      <td>10/31/2011 12:25</td>\n      <td>0.75</td>\n      <td>12347.0</td>\n      <td>Iceland</td>\n    </tr>\n    <tr>\n      <th>428960</th>\n      <td>573511</td>\n      <td>22372</td>\n      <td>AIRLINE BAG VINTAGE WORLD CHAMPION</td>\n      <td>4</td>\n      <td>10/31/2011 12:25</td>\n      <td>4.25</td>\n      <td>12347.0</td>\n      <td>Iceland</td>\n    </tr>\n    <tr>\n      <th>428961</th>\n      <td>573511</td>\n      <td>22375</td>\n      <td>AIRLINE BAG VINTAGE JET SET BROWN</td>\n      <td>8</td>\n      <td>10/31/2011 12:25</td>\n      <td>4.25</td>\n      <td>12347.0</td>\n      <td>Iceland</td>\n    </tr>\n    <tr>\n      <th>428962</th>\n      <td>573511</td>\n      <td>22371</td>\n      <td>AIRLINE BAG VINTAGE TOKYO 78</td>\n      <td>12</td>\n      <td>10/31/2011 12:25</td>\n      <td>3.95</td>\n      <td>12347.0</td>\n      <td>Iceland</td>\n    </tr>\n    <tr>\n      <th>428963</th>\n      <td>573511</td>\n      <td>22374</td>\n      <td>AIRLINE BAG VINTAGE JET SET RED</td>\n      <td>8</td>\n      <td>10/31/2011 12:25</td>\n      <td>4.25</td>\n      <td>12347.0</td>\n      <td>Iceland</td>\n    </tr>\n    <tr>\n      <th>428964</th>\n      <td>573511</td>\n      <td>22252</td>\n      <td>BIRDCAGE DECORATION TEALIGHT HOLDER</td>\n      <td>12</td>\n      <td>10/31/2011 12:25</td>\n      <td>1.25</td>\n      <td>12347.0</td>\n      <td>Iceland</td>\n    </tr>\n  </tbody>\n</table>\n</div>"
     },
     "metadata": {},
     "execution_count": 40
    }
   ],
   "source": [
    "df.sort_values(\"CustomerID\")[:20]"
   ]
  },
  {
   "cell_type": "code",
   "execution_count": 48,
   "metadata": {},
   "outputs": [
    {
     "output_type": "execute_result",
     "data": {
      "text/plain": [
       "      CustomerID  Quantity StockCode                          Description  \\\n",
       "141      14527.0        -1         D                             Discount   \n",
       "154      15311.0        -1    35004C      SET OF 3 COLOURED  FLYING DUCKS   \n",
       "235      17548.0       -12     22556       PLASTERS IN TIN CIRCUS PARADE    \n",
       "236      17548.0       -24     21984     PACK OF 12 PINK PAISLEY TISSUES    \n",
       "237      17548.0       -24     21983     PACK OF 12 BLUE PAISLEY TISSUES    \n",
       "238      17548.0       -24     21980    PACK OF 12 RED RETROSPOT TISSUES    \n",
       "239      17548.0       -12     21484          CHICK GREY HOT WATER BOTTLE   \n",
       "240      17548.0       -12     22557     PLASTERS IN TIN VINTAGE PAISLEY    \n",
       "241      17548.0       -24     22553               PLASTERS IN TIN SKULLS   \n",
       "939      17897.0        -6     22960             JAM MAKING SET WITH JARS   \n",
       "1441     17841.0        -1     22632            HAND WARMER RED RETROSPOT   \n",
       "1442     17841.0        -2     22355            CHARLOTTE BAG SUKI DESIGN   \n",
       "1973     12472.0        -4     22244           3 HOOK HANGER MAGIC GARDEN   \n",
       "1974     12472.0        -5     22242        5 HOOK HANGER MAGIC TOADSTOOL   \n",
       "1975     12472.0        -1     20914  SET/5 RED RETROSPOT LID GLASS BOWLS   \n",
       "1976     12472.0        -7     22892    SET OF SALT AND PEPPER TOADSTOOLS   \n",
       "1977     12472.0        -1     22654                   DELUXE SEWING KIT    \n",
       "1978     12472.0        -2     22767          TRIPLE PHOTO FRAME CORNICE    \n",
       "1979     12472.0        -1     22333    RETROSPOT PARTY BAG + STICKER SET   \n",
       "1980     12472.0        -2     22245         HOOK, 1 HANGER ,MAGIC GARDEN   \n",
       "\n",
       "      UnitPrice  \n",
       "141       27.50  \n",
       "154        4.65  \n",
       "235        1.65  \n",
       "236        0.29  \n",
       "237        0.29  \n",
       "238        0.29  \n",
       "239        3.45  \n",
       "240        1.65  \n",
       "241        1.65  \n",
       "939        4.25  \n",
       "1441       2.10  \n",
       "1442       0.85  \n",
       "1973       1.95  \n",
       "1974       1.65  \n",
       "1975       2.95  \n",
       "1976       1.25  \n",
       "1977       5.95  \n",
       "1978       9.95  \n",
       "1979       1.65  \n",
       "1980       0.85  "
      ],
      "text/html": "<div>\n<style scoped>\n    .dataframe tbody tr th:only-of-type {\n        vertical-align: middle;\n    }\n\n    .dataframe tbody tr th {\n        vertical-align: top;\n    }\n\n    .dataframe thead th {\n        text-align: right;\n    }\n</style>\n<table border=\"1\" class=\"dataframe\">\n  <thead>\n    <tr style=\"text-align: right;\">\n      <th></th>\n      <th>CustomerID</th>\n      <th>Quantity</th>\n      <th>StockCode</th>\n      <th>Description</th>\n      <th>UnitPrice</th>\n    </tr>\n  </thead>\n  <tbody>\n    <tr>\n      <th>141</th>\n      <td>14527.0</td>\n      <td>-1</td>\n      <td>D</td>\n      <td>Discount</td>\n      <td>27.50</td>\n    </tr>\n    <tr>\n      <th>154</th>\n      <td>15311.0</td>\n      <td>-1</td>\n      <td>35004C</td>\n      <td>SET OF 3 COLOURED  FLYING DUCKS</td>\n      <td>4.65</td>\n    </tr>\n    <tr>\n      <th>235</th>\n      <td>17548.0</td>\n      <td>-12</td>\n      <td>22556</td>\n      <td>PLASTERS IN TIN CIRCUS PARADE</td>\n      <td>1.65</td>\n    </tr>\n    <tr>\n      <th>236</th>\n      <td>17548.0</td>\n      <td>-24</td>\n      <td>21984</td>\n      <td>PACK OF 12 PINK PAISLEY TISSUES</td>\n      <td>0.29</td>\n    </tr>\n    <tr>\n      <th>237</th>\n      <td>17548.0</td>\n      <td>-24</td>\n      <td>21983</td>\n      <td>PACK OF 12 BLUE PAISLEY TISSUES</td>\n      <td>0.29</td>\n    </tr>\n    <tr>\n      <th>238</th>\n      <td>17548.0</td>\n      <td>-24</td>\n      <td>21980</td>\n      <td>PACK OF 12 RED RETROSPOT TISSUES</td>\n      <td>0.29</td>\n    </tr>\n    <tr>\n      <th>239</th>\n      <td>17548.0</td>\n      <td>-12</td>\n      <td>21484</td>\n      <td>CHICK GREY HOT WATER BOTTLE</td>\n      <td>3.45</td>\n    </tr>\n    <tr>\n      <th>240</th>\n      <td>17548.0</td>\n      <td>-12</td>\n      <td>22557</td>\n      <td>PLASTERS IN TIN VINTAGE PAISLEY</td>\n      <td>1.65</td>\n    </tr>\n    <tr>\n      <th>241</th>\n      <td>17548.0</td>\n      <td>-24</td>\n      <td>22553</td>\n      <td>PLASTERS IN TIN SKULLS</td>\n      <td>1.65</td>\n    </tr>\n    <tr>\n      <th>939</th>\n      <td>17897.0</td>\n      <td>-6</td>\n      <td>22960</td>\n      <td>JAM MAKING SET WITH JARS</td>\n      <td>4.25</td>\n    </tr>\n    <tr>\n      <th>1441</th>\n      <td>17841.0</td>\n      <td>-1</td>\n      <td>22632</td>\n      <td>HAND WARMER RED RETROSPOT</td>\n      <td>2.10</td>\n    </tr>\n    <tr>\n      <th>1442</th>\n      <td>17841.0</td>\n      <td>-2</td>\n      <td>22355</td>\n      <td>CHARLOTTE BAG SUKI DESIGN</td>\n      <td>0.85</td>\n    </tr>\n    <tr>\n      <th>1973</th>\n      <td>12472.0</td>\n      <td>-4</td>\n      <td>22244</td>\n      <td>3 HOOK HANGER MAGIC GARDEN</td>\n      <td>1.95</td>\n    </tr>\n    <tr>\n      <th>1974</th>\n      <td>12472.0</td>\n      <td>-5</td>\n      <td>22242</td>\n      <td>5 HOOK HANGER MAGIC TOADSTOOL</td>\n      <td>1.65</td>\n    </tr>\n    <tr>\n      <th>1975</th>\n      <td>12472.0</td>\n      <td>-1</td>\n      <td>20914</td>\n      <td>SET/5 RED RETROSPOT LID GLASS BOWLS</td>\n      <td>2.95</td>\n    </tr>\n    <tr>\n      <th>1976</th>\n      <td>12472.0</td>\n      <td>-7</td>\n      <td>22892</td>\n      <td>SET OF SALT AND PEPPER TOADSTOOLS</td>\n      <td>1.25</td>\n    </tr>\n    <tr>\n      <th>1977</th>\n      <td>12472.0</td>\n      <td>-1</td>\n      <td>22654</td>\n      <td>DELUXE SEWING KIT</td>\n      <td>5.95</td>\n    </tr>\n    <tr>\n      <th>1978</th>\n      <td>12472.0</td>\n      <td>-2</td>\n      <td>22767</td>\n      <td>TRIPLE PHOTO FRAME CORNICE</td>\n      <td>9.95</td>\n    </tr>\n    <tr>\n      <th>1979</th>\n      <td>12472.0</td>\n      <td>-1</td>\n      <td>22333</td>\n      <td>RETROSPOT PARTY BAG + STICKER SET</td>\n      <td>1.65</td>\n    </tr>\n    <tr>\n      <th>1980</th>\n      <td>12472.0</td>\n      <td>-2</td>\n      <td>22245</td>\n      <td>HOOK, 1 HANGER ,MAGIC GARDEN</td>\n      <td>0.85</td>\n    </tr>\n  </tbody>\n</table>\n</div>"
     },
     "metadata": {},
     "execution_count": 48
    }
   ],
   "source": [
    "df_check = df[df[\"Quantity\"] < 0][[\"CustomerID\", \"Quantity\",\"StockCode\", \"Description\", \"UnitPrice\"]]\n",
    "df_check.head(20)"
   ]
  },
  {
   "cell_type": "code",
   "execution_count": 38,
   "metadata": {
    "tags": []
   },
   "outputs": [
    {
     "output_type": "stream",
     "name": "stdout",
     "text": [
      "InvoiceNo             C536379\nStockCode                   D\nDescription          Discount\nQuantity                   -1\nInvoiceDate    12/1/2010 9:41\nUnitPrice                27.5\nCustomerID            14527.0\nCountry        United Kingdom\nName: 141, dtype: object\nnot fullfiled\n"
     ]
    }
   ],
   "source": [
    "for index, col in df_check.iterrows():\n",
    "    if df[(df[\"CustomerID\"] == col[0]) & (df[\"Quantity\"] == -col[1]) & (df[\"Description\"]== col[2])].shape[0] == 0:\n",
    "        print(df.loc[index])\n",
    "        print(\"not fullfiled\")\n",
    "        break"
   ]
  },
  {
   "cell_type": "code",
   "execution_count": 50,
   "metadata": {},
   "outputs": [
    {
     "output_type": "execute_result",
     "data": {
      "text/plain": [
       "      CustomerID  Quantity StockCode                        Description  \\\n",
       "154      15311.0        -1    35004C    SET OF 3 COLOURED  FLYING DUCKS   \n",
       "235      17548.0       -12     22556     PLASTERS IN TIN CIRCUS PARADE    \n",
       "236      17548.0       -24     21984   PACK OF 12 PINK PAISLEY TISSUES    \n",
       "237      17548.0       -24     21983   PACK OF 12 BLUE PAISLEY TISSUES    \n",
       "238      17548.0       -24     21980  PACK OF 12 RED RETROSPOT TISSUES    \n",
       "239      17548.0       -12     21484        CHICK GREY HOT WATER BOTTLE   \n",
       "240      17548.0       -12     22557   PLASTERS IN TIN VINTAGE PAISLEY    \n",
       "241      17548.0       -24     22553             PLASTERS IN TIN SKULLS   \n",
       "939      17897.0        -6     22960           JAM MAKING SET WITH JARS   \n",
       "1441     17841.0        -1     22632          HAND WARMER RED RETROSPOT   \n",
       "\n",
       "      UnitPrice  \n",
       "154        4.65  \n",
       "235        1.65  \n",
       "236        0.29  \n",
       "237        0.29  \n",
       "238        0.29  \n",
       "239        3.45  \n",
       "240        1.65  \n",
       "241        1.65  \n",
       "939        4.25  \n",
       "1441       2.10  "
      ],
      "text/html": "<div>\n<style scoped>\n    .dataframe tbody tr th:only-of-type {\n        vertical-align: middle;\n    }\n\n    .dataframe tbody tr th {\n        vertical-align: top;\n    }\n\n    .dataframe thead th {\n        text-align: right;\n    }\n</style>\n<table border=\"1\" class=\"dataframe\">\n  <thead>\n    <tr style=\"text-align: right;\">\n      <th></th>\n      <th>CustomerID</th>\n      <th>Quantity</th>\n      <th>StockCode</th>\n      <th>Description</th>\n      <th>UnitPrice</th>\n    </tr>\n  </thead>\n  <tbody>\n    <tr>\n      <th>154</th>\n      <td>15311.0</td>\n      <td>-1</td>\n      <td>35004C</td>\n      <td>SET OF 3 COLOURED  FLYING DUCKS</td>\n      <td>4.65</td>\n    </tr>\n    <tr>\n      <th>235</th>\n      <td>17548.0</td>\n      <td>-12</td>\n      <td>22556</td>\n      <td>PLASTERS IN TIN CIRCUS PARADE</td>\n      <td>1.65</td>\n    </tr>\n    <tr>\n      <th>236</th>\n      <td>17548.0</td>\n      <td>-24</td>\n      <td>21984</td>\n      <td>PACK OF 12 PINK PAISLEY TISSUES</td>\n      <td>0.29</td>\n    </tr>\n    <tr>\n      <th>237</th>\n      <td>17548.0</td>\n      <td>-24</td>\n      <td>21983</td>\n      <td>PACK OF 12 BLUE PAISLEY TISSUES</td>\n      <td>0.29</td>\n    </tr>\n    <tr>\n      <th>238</th>\n      <td>17548.0</td>\n      <td>-24</td>\n      <td>21980</td>\n      <td>PACK OF 12 RED RETROSPOT TISSUES</td>\n      <td>0.29</td>\n    </tr>\n    <tr>\n      <th>239</th>\n      <td>17548.0</td>\n      <td>-12</td>\n      <td>21484</td>\n      <td>CHICK GREY HOT WATER BOTTLE</td>\n      <td>3.45</td>\n    </tr>\n    <tr>\n      <th>240</th>\n      <td>17548.0</td>\n      <td>-12</td>\n      <td>22557</td>\n      <td>PLASTERS IN TIN VINTAGE PAISLEY</td>\n      <td>1.65</td>\n    </tr>\n    <tr>\n      <th>241</th>\n      <td>17548.0</td>\n      <td>-24</td>\n      <td>22553</td>\n      <td>PLASTERS IN TIN SKULLS</td>\n      <td>1.65</td>\n    </tr>\n    <tr>\n      <th>939</th>\n      <td>17897.0</td>\n      <td>-6</td>\n      <td>22960</td>\n      <td>JAM MAKING SET WITH JARS</td>\n      <td>4.25</td>\n    </tr>\n    <tr>\n      <th>1441</th>\n      <td>17841.0</td>\n      <td>-1</td>\n      <td>22632</td>\n      <td>HAND WARMER RED RETROSPOT</td>\n      <td>2.10</td>\n    </tr>\n  </tbody>\n</table>\n</div>"
     },
     "metadata": {},
     "execution_count": 50
    }
   ],
   "source": [
    "df_check = df[(df[\"Quantity\"] < 0) & (df[\"Description\"] != \"Discount\")][[\"CustomerID\", \"Quantity\",\"StockCode\", \"Description\", \"UnitPrice\"]]\n",
    "df_check[:10]"
   ]
  },
  {
   "cell_type": "code",
   "execution_count": 51,
   "metadata": {},
   "outputs": [
    {
     "output_type": "stream",
     "name": "stdout",
     "text": [
      "InvoiceNo                              C536383\nStockCode                               35004C\nDescription    SET OF 3 COLOURED  FLYING DUCKS\nQuantity                                    -1\nInvoiceDate                     12/1/2010 9:49\nUnitPrice                                 4.65\nCustomerID                             15311.0\nCountry                         United Kingdom\nName: 154, dtype: object\nnot fullfiled\n"
     ]
    }
   ],
   "source": [
    "for index, col in df_check.iterrows():\n",
    "    if df[(df[\"CustomerID\"] == col[0]) & (df[\"Quantity\"] == -col[1]) & (df[\"Description\"]== col[2])].shape[0] == 0:\n",
    "        print(df.loc[index])\n",
    "        print(\"not fullfiled\")\n",
    "        break\n",
    "    "
   ]
  }
 ]
}